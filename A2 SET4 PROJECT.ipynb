{
 "cells": [
  {
   "cell_type": "markdown",
   "id": "12f6ef60",
   "metadata": {},
   "source": [
    "#  SET 4"
   ]
  },
  {
   "cell_type": "code",
   "execution_count": 2,
   "id": "e1ff8705",
   "metadata": {},
   "outputs": [],
   "source": [
    "import pandas as pd\n",
    "import numpy as np\n",
    "import matplotlib.pyplot as plt\n",
    "import scipy.stats as stats\n",
    "import seaborn as sns\n",
    "import statsmodels.api as smf\n",
    "import warnings\n",
    "warnings.filterwarnings('ignore')"
   ]
  },
  {
   "cell_type": "markdown",
   "id": "59d7cb64",
   "metadata": {},
   "source": [
    "## Question 3"
   ]
  },
  {
   "cell_type": "markdown",
   "id": "a169cbda",
   "metadata": {},
   "source": [
    "Auditors at a small community bank randomly sample 100 withdrawal transactions made during the week at an ATM machine located near the bank’s main branch. Over the past 2 years, the average withdrawal amount has been 50 USD with a standard deviation of 40 USD. Since audit investigations are typically expensive, the auditors decide to not initiate further investigations if the mean transaction amount of the sample is between 45 USD and 55 USD. What is the probability that in any given week, there will be an investigation?"
   ]
  },
  {
   "cell_type": "code",
   "execution_count": 3,
   "id": "a6ede10b",
   "metadata": {},
   "outputs": [
    {
     "name": "stdout",
     "output_type": "stream",
     "text": [
      "0.2112995473337107\n"
     ]
    }
   ],
   "source": [
    "mean = 50\n",
    "std = 40\n",
    "n = 100\n",
    "\n",
    "z_forty_five= (45-50)/(40/100**0.5)\n",
    "\n",
    "z_fifty_five= (55-50)/(40/100**0.5)\n",
    "\n",
    "forty_five = stats.norm.cdf(z_forty_five)\n",
    "\n",
    "fifty_five = stats.norm.cdf(z_fifty_five)\n",
    "\n",
    "prob = fifty_five - forty_five\n",
    "\n",
    "np.round(stats.norm.interval(alpha = prob, loc = mean, scale = std/np.sqrt(n)),)\n",
    "\n",
    "print(1-prob)"
   ]
  },
  {
   "cell_type": "markdown",
   "id": "7ae0f176",
   "metadata": {},
   "source": [
    "## Question 4"
   ]
  },
  {
   "cell_type": "markdown",
   "id": "fd285427",
   "metadata": {},
   "source": [
    "The auditors from the above example would like to maintain the probability of investigation to 5%. Which of the following represents the minimum number transactions that they should sample if they do not want to change the thresholds of 45 and 55? Assume that the sample statistics remain unchanged."
   ]
  },
  {
   "cell_type": "code",
   "execution_count": 4,
   "id": "6c5339a8",
   "metadata": {},
   "outputs": [],
   "source": [
    "t_fifty_five = (45-50)/(40/np.sqrt(100))"
   ]
  },
  {
   "cell_type": "code",
   "execution_count": null,
   "id": "226743bb",
   "metadata": {},
   "outputs": [],
   "source": []
  }
 ],
 "metadata": {
  "kernelspec": {
   "display_name": "Python 3 (ipykernel)",
   "language": "python",
   "name": "python3"
  },
  "language_info": {
   "codemirror_mode": {
    "name": "ipython",
    "version": 3
   },
   "file_extension": ".py",
   "mimetype": "text/x-python",
   "name": "python",
   "nbconvert_exporter": "python",
   "pygments_lexer": "ipython3",
   "version": "3.9.12"
  }
 },
 "nbformat": 4,
 "nbformat_minor": 5
}
